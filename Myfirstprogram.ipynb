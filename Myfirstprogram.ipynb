{
  "nbformat": 4,
  "nbformat_minor": 0,
  "metadata": {
    "colab": {
      "provenance": [],
      "authorship_tag": "ABX9TyOVgzIzDuWF0ziGDVTDQVX2",
      "include_colab_link": true
    },
    "kernelspec": {
      "name": "python3",
      "display_name": "Python 3"
    },
    "language_info": {
      "name": "python"
    }
  },
  "cells": [
    {
      "cell_type": "markdown",
      "metadata": {
        "id": "view-in-github",
        "colab_type": "text"
      },
      "source": [
        "<a href=\"https://colab.research.google.com/github/caeyon/first-repository/blob/main/Myfirstprogram.ipynb\" target=\"_parent\"><img src=\"https://colab.research.google.com/assets/colab-badge.svg\" alt=\"Open In Colab\"/></a>"
      ]
    },
    {
      "cell_type": "code",
      "source": [
        "with open('/gdrive/My Drive/test.txt', 'w') as f:\n",
        "    f.writelines(\"Hello Google Colab!\")"
      ],
      "metadata": {
        "id": "GeTOD7xiRAue"
      },
      "execution_count": 32,
      "outputs": []
    },
    {
      "cell_type": "code",
      "source": [
        "from google.colab import drive\n",
        "drive.mount('/gdrive', force_remount=True)"
      ],
      "metadata": {
        "colab": {
          "base_uri": "https://localhost:8080/"
        },
        "id": "ys1A-icSQXxi",
        "outputId": "48d5c3e7-4a88-4463-ae13-41402582aa57"
      },
      "execution_count": 30,
      "outputs": [
        {
          "output_type": "stream",
          "name": "stdout",
          "text": [
            "Mounted at /gdrive\n"
          ]
        }
      ]
    },
    {
      "cell_type": "code",
      "source": [
        "! pip show techmo"
      ],
      "metadata": {
        "colab": {
          "base_uri": "https://localhost:8080/"
        },
        "id": "RY9i5dXDJw5w",
        "outputId": "088d7e21-f498-4e98-da31-ba627a37bc84"
      },
      "execution_count": 20,
      "outputs": [
        {
          "output_type": "stream",
          "name": "stdout",
          "text": [
            "\u001b[33mWARNING: Package(s) not found: techmo\u001b[0m\n"
          ]
        }
      ]
    },
    {
      "cell_type": "markdown",
      "source": [
        "# **신기하네요***"
      ],
      "metadata": {
        "id": "YTCc-qY6GrW7"
      }
    },
    {
      "cell_type": "code",
      "execution_count": 34,
      "metadata": {
        "colab": {
          "base_uri": "https://localhost:8080/"
        },
        "id": "lyEVOVNlDS2Y",
        "outputId": "77808b31-c2bb-47b4-fb61-af2281025edc"
      },
      "outputs": [
        {
          "output_type": "stream",
          "name": "stdout",
          "text": [
            "^^\n",
            ">>>하고 싶은 말? \n",
            "None\n",
            "있겠니?\n",
            "1\n",
            "11\n",
            "12\n",
            "0.09090909090909091\n",
            "11\n"
          ]
        }
      ],
      "source": [
        "print(\"^^\")\n",
        "input(print(\">>>하고 싶은 말? \"))\n",
        "print(\"있겠니?\")\n",
        "\n",
        "a = 1\n",
        "b= a + 10\n",
        "\n",
        "print(a)\n",
        "print(b)\n",
        "print(a+b)\n",
        "print(a/b)\n",
        "print(a*b)"
      ]
    }
  ]
}